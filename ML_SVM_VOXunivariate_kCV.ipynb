{
 "cells": [
  {
   "cell_type": "markdown",
   "metadata": {},
   "source": [
    "# SVMによるボクセルごとの学習と性能評価（単変量解析）\n",
    "----\n",
    "\n",
    "引数：raw_al45.csv/raw_al135.csvがあるディレクトリまでのパス\n",
    "\n",
    "----\n",
    "\n",
    "入力：raw_al45.csv/raw_al135.csv\n",
    "\n",
    "----\n",
    "\n",
    "出力：ACCURACY[loo or k_cv]_VOXunivariate_SVM.csv ボクセルごとの識別性能評価結果一覧\n",
    "\n",
    "----\n",
    "\n",
    "ボクセルごとに単変量解析を行う．  \n",
    "k分割交差検証法により1グループをテストデータの，k-1グループを教師データとし，SVMを用いて学習，精度評価． \n",
    "ベクトル：各ボクセルにおけるある時刻のZ-score（1ベクトル）"
   ]
  },
  {
   "cell_type": "code",
   "execution_count": 1,
   "metadata": {},
   "outputs": [
    {
     "name": "stdout",
     "output_type": "stream",
     "text": [
      "############ ML_SVM_VOXunivariate_kCV.py program excution ############\n"
     ]
    }
   ],
   "source": [
    "print('############ ML_SVM_VOXunivariate_kCV.py program excution ############')"
   ]
  },
  {
   "cell_type": "code",
   "execution_count": 81,
   "metadata": {},
   "outputs": [
    {
     "name": "stderr",
     "output_type": "stream",
     "text": [
      "/Users/nakayamarina/.pyenv/versions/anaconda3-4.4.0/lib/python3.6/site-packages/sklearn/cross_validation.py:41: DeprecationWarning: This module was deprecated in version 0.18 in favor of the model_selection module into which all the refactored classes and functions are moved. Also note that the interface of the new CV iterators are different from that of this module. This module will be removed in 0.20.\n",
      "  \"This module will be removed in 0.20.\", DeprecationWarning)\n"
     ]
    }
   ],
   "source": [
    "import numpy as np\n",
    "import pandas as pd\n",
    "import sys\n",
    "from sklearn import cross_validation\n",
    "from sklearn import svm\n",
    "from sklearn.model_selection import train_test_split"
   ]
  },
  {
   "cell_type": "code",
   "execution_count": 82,
   "metadata": {
    "collapsed": true
   },
   "outputs": [],
   "source": [
    "#args = sys.argv\n",
    "#PATH = args[1]\n",
    "\n",
    "# jupyter notebookのときはここで指定\n",
    "PATH = '../SpmActive/20181119tm/RawData/'\n",
    "\n",
    "# 検証手法\n",
    "kCV = 10\n",
    "\n",
    "# 検証手法\n",
    "col_name = str(kCV) + 'CV'"
   ]
  },
  {
   "cell_type": "markdown",
   "metadata": {},
   "source": [
    "## SVM_kCV関数\n",
    "引く数としてデータをX，ラベルをyで受け取る．  \n",
    "交差検証法の一つk分割交差検証法で識別精度評価を行う．  "
   ]
  },
  {
   "cell_type": "code",
   "execution_count": 89,
   "metadata": {
    "collapsed": true
   },
   "outputs": [],
   "source": [
    "def SVM_kCV(X, y):\n",
    "    \n",
    "    # 線形SVMのインスタンスを生成\n",
    "    model = svm.SVC(kernel = 'linear', C = 1)\n",
    "    \n",
    "    # k分割し，1グループをテストデータ，残りグループを教師データにして評価\n",
    "    # すべてのグループに対して行う\n",
    "    # 評価結果（識別率）を格納\n",
    "    CVscore = cross_validation.cross_val_score(model, X, y, cv = kCV)\n",
    "    \n",
    "    # 評価結果（識別率）の平均を求める\n",
    "    result = CVscore.mean()\n",
    "    \n",
    "    # パーセントに直す\n",
    "    result = round(result * 100, 1)\n",
    "\n",
    "    print('k = ' + str(kCV) + '：' + str(CVscore))\n",
    "    \n",
    "    return result\n",
    "    "
   ]
  },
  {
   "cell_type": "markdown",
   "metadata": {},
   "source": [
    "# main関数"
   ]
  },
  {
   "cell_type": "code",
   "execution_count": 90,
   "metadata": {
    "collapsed": true
   },
   "outputs": [],
   "source": [
    "if __name__ == '__main__':\n",
    "    \n",
    "    # 読み込みたいファイルのパス\n",
    "    PATH_al45 = PATH + 'raw_al45.csv'\n",
    "    PATH_al135 = PATH + 'raw_al135.csv'\n",
    "    \n",
    "    # csvファイル読み込み\n",
    "    # headerは設定せず，転置後にset_index()する（header = 0にすると列名が変えられる）\n",
    "    al45 = pd.read_csv(PATH_al45, header = None, index_col = 0).T\n",
    "    al45.columns = range(0, len(al45.columns))\n",
    "    al45 = al45.set_index(0)\n",
    "    \n",
    "    al135 = pd.read_csv(PATH_al135, header = None, index_col = 0).T\n",
    "    al135.columns = range(0, len(al135.columns))\n",
    "    al135 = al135.set_index(0)"
   ]
  },
  {
   "cell_type": "code",
   "execution_count": 114,
   "metadata": {},
   "outputs": [
    {
     "name": "stdout",
     "output_type": "stream",
     "text": [
      "Voxel1( 1 / 7 )\n",
      "k = 10：[ 0.48611111  0.56944444  0.48571429  0.5         0.47142857  0.54285714\n",
      "  0.42857143  0.35714286  0.51428571  0.37142857]\n",
      "47.3\n",
      "Voxel2( 2 / 7 )\n",
      "k = 10：[ 0.47222222  0.55555556  0.5         0.37142857  0.47142857  0.5\n",
      "  0.34285714  0.47142857  0.44285714  0.37142857]\n",
      "45.0\n",
      "Voxel3( 3 / 7 )\n",
      "k = 10：[ 0.47222222  0.56944444  0.48571429  0.44285714  0.47142857  0.41428571\n",
      "  0.61428571  0.4         0.44285714  0.5       ]\n",
      "48.1\n",
      "Voxel4( 4 / 7 )\n",
      "k = 10：[ 0.45833333  0.41666667  0.4         0.4         0.42857143  0.54285714\n",
      "  0.41428571  0.57142857  0.52857143  0.51428571]\n",
      "46.8\n",
      "Voxel5( 5 / 7 )\n",
      "k = 10：[ 0.48611111  0.45833333  0.51428571  0.47142857  0.45714286  0.55714286\n",
      "  0.42857143  0.4         0.51428571  0.5       ]\n",
      "47.9\n",
      "Voxel6( 6 / 7 )\n",
      "k = 10：[ 0.48611111  0.40277778  0.4         0.58571429  0.37142857  0.48571429\n",
      "  0.42857143  0.34285714  0.44285714  0.41428571]\n",
      "43.6\n",
      "Voxel7( 7 / 7 )\n",
      "k = 10：[ 0.47222222  0.38888889  0.48571429  0.42857143  0.52857143  0.52857143\n",
      "  0.48571429  0.42857143  0.5         0.47142857]\n",
      "47.2\n"
     ]
    }
   ],
   "source": [
    "    # ボクセル数\n",
    "    voxNum = len(al45) // 4\n",
    "    \n",
    "    # 全ボクセルの識別率を格納するデータフレーム\n",
    "    voxAc = pd.DataFrame(index = range(voxNum), columns = [col_name])\n",
    "    \n",
    "    counter = 0\n",
    "    csvcounter = 0\n",
    "    voxNames = []\n",
    "\n",
    "    for voxNo in range(voxNum):\n",
    "\n",
    "        voxName = 'Voxel' + str(voxNo + 1)\n",
    "        print(voxName + '( ' + str(counter+1) + ' / ' + str(voxNum) + ' )')\n",
    "\n",
    "        # ボクセルのデータを取得\n",
    "        al45Vox = al45.loc[voxName]\n",
    "        al135Vox = al135.loc[voxName]\n",
    "\n",
    "        # データセット作成\n",
    "        al45Vox_vec = np.ravel(al45Vox)\n",
    "        al135Vox_vec = np.ravel(al135Vox)\n",
    "\n",
    "        data = np.r_[al45Vox_vec, al135Vox_vec]\n",
    "\n",
    "        # データ数+1にするためにリシェイプ\n",
    "        data = data.reshape(-1, 1)\n",
    "\n",
    "        # ラベルを作成\n",
    "        al45Vox_label = np.zeros(len(al45Vox_vec))\n",
    "        al135Vox_label = np.ones(len(al135Vox_vec))\n",
    "\n",
    "        labels = np.r_[al45Vox_label, al135Vox_label]\n",
    "        \n",
    "        # 学習と評価\n",
    "        result_vox = SVM_kCV(data, labels)\n",
    "        print(result_vox)\n",
    "        \n",
    "        # データフレームに格納\n",
    "        voxAc.at[voxNo, :] = result_vox\n",
    "        \n",
    "        # 途中経過見る用\n",
    "        # 何ボクセルで一度出力するか\n",
    "        midNum = 1000\n",
    "\n",
    "        if (counter % midNum == 0) and (counter != 0):\n",
    "\n",
    "            PATH_test = PATH + 'ACMID' + str(csvcounter) + '[' + str(kCV) + 'cv]_VOXunivariate' + '_SVM.csv'\n",
    "            print(PATH_test)\n",
    "            MidVoxAc = voxAc.iloc[(csvcounter * midNum):((csvcounter + 1) * midNum), :]\n",
    "            MidVoxAc.index = voxNames[(csvcounter * midNum):((csvcounter + 1) * midNum)]\n",
    "            MidVoxAc.to_csv(PATH_test, index = True)\n",
    "\n",
    "            csvcounter = csvcounter + 1\n",
    "        \n",
    "        counter = counter + 1\n",
    "        voxNames = voxNames + [voxName]\n",
    "        \n"
   ]
  },
  {
   "cell_type": "code",
   "execution_count": 117,
   "metadata": {
    "collapsed": true
   },
   "outputs": [],
   "source": [
    "    # 行名つける\n",
    "    voxAc.index = voxNames\n",
    "\n",
    "    # csv書き出し\n",
    "    PATH_RESULT = PATH + 'ACCURACY[' + str(kCV) + 'CV]_VOXunivariate' + '_SVM.csv'\n",
    "    voxAc.to_csv(PATH_RESULT, index = True)"
   ]
  },
  {
   "cell_type": "code",
   "execution_count": null,
   "metadata": {
    "collapsed": true
   },
   "outputs": [],
   "source": []
  }
 ],
 "metadata": {
  "kernelspec": {
   "display_name": "Python 3",
   "language": "python",
   "name": "python3"
  },
  "language_info": {
   "codemirror_mode": {
    "name": "ipython",
    "version": 3
   },
   "file_extension": ".py",
   "mimetype": "text/x-python",
   "name": "python",
   "nbconvert_exporter": "python",
   "pygments_lexer": "ipython3",
   "version": "3.6.1"
  }
 },
 "nbformat": 4,
 "nbformat_minor": 2
}
