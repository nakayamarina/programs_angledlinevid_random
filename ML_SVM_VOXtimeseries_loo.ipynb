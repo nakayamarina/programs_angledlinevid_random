{
 "cells": [
  {
   "cell_type": "markdown",
   "metadata": {},
   "source": [
    "# SVMによるボクセルごとの学習と性能評価（時系列解析）\n",
    "----\n",
    "\n",
    "引数：raw_al45.csv/raw_al135.csvがあるディレクトリまでのパス\n",
    "\n",
    "----\n",
    "\n",
    "入力：raw_al45.csv/raw_al135.csv\n",
    "\n",
    "----\n",
    "\n",
    "出力：ACCURACY[loo or k_cv]_VOXtimeseries[1時系列あたりのスキャン数]_SVM.csv ボクセルごとの識別性能評価結果一覧\n",
    "\n",
    "----\n",
    "ボクセルごとにあるデータにおけるNスキャン分の時系列データをテストデータ，テストデータを除いた残りのデータにおけるNスキャン分の時系列データ1ずつずらしながらを学習データとして取得し，SVMを用いて学習，交差検証法を用いて識別性能評価を行う．  \n",
    "ベクトル：各ボクセルにおけるデータにおけるNスキャン分の時系列データ"
   ]
  },
  {
   "cell_type": "code",
   "execution_count": 1,
   "metadata": {},
   "outputs": [
    {
     "name": "stdout",
     "output_type": "stream",
     "text": [
      "############ ML_SVM_VOXtimeseries.py program excution ############\n"
     ]
    }
   ],
   "source": [
    "print('############ ML_SVM_VOXtimeseries.py program excution ############')"
   ]
  },
  {
   "cell_type": "code",
   "execution_count": 2,
   "metadata": {
    "collapsed": true
   },
   "outputs": [],
   "source": [
    "import numpy as np\n",
    "import pandas as pd\n",
    "import sys\n",
    "\n",
    "from sklearn import svm"
   ]
  },
  {
   "cell_type": "code",
   "execution_count": 356,
   "metadata": {
    "collapsed": true
   },
   "outputs": [],
   "source": [
    "#args = sys.argv\n",
    "#PATH = args[1]\n",
    "\n",
    "# jupyter notebookのときはここで指定\n",
    "PATH = '../Active/20181119mt/RawData/'\n",
    "\n",
    "# 1時系列あたりのスキャン数\n",
    "N = 30\n",
    "\n",
    "# 検証手法\n",
    "col_name = 'leave-one-out'\n",
    "\n",
    "# 試行数\n",
    "runNum = 4"
   ]
  },
  {
   "cell_type": "markdown",
   "metadata": {},
   "source": [
    "## TsShift関数\n",
    "引数としてあるボクセルにおける全試行分のデータをdata，タスクを見分けるための番号をlabelに受け取る．  \n",
    "各試行で1ずつずらしながらNスキャン分の時系列データを取得する．全試行の時系列データをまとめて返す．"
   ]
  },
  {
   "cell_type": "code",
   "execution_count": 357,
   "metadata": {
    "collapsed": true
   },
   "outputs": [],
   "source": [
    "def TsShift(data, label):\n",
    "    \n",
    "    # 1ボクセルあたりで取得する時系列データ格納用データフレーム\n",
    "    ts_all = pd.DataFrame(index = [], columns = [])\n",
    "    \n",
    "    for runNo in range(runNum):\n",
    "        \n",
    "        # 1試行あたりので得られる全データ\n",
    "        runData = data.iloc[runNo, :]\n",
    "        \n",
    "        # 時系列として扱う区間の始まり\n",
    "        ts_fst = 0\n",
    "\n",
    "        # 時系列として扱う区間の終わり\n",
    "        ts_end = N\n",
    "\n",
    "        # 1ずつずらしながら時系列データを取得，結合\n",
    "        while ts_end <= len(runData):\n",
    "\n",
    "            # 時系列として扱う区間の始まり，区間の終わり，その区間（Nスキャン分）の時系列データの順でリスト化\n",
    "            ts = [label] + [runNo + 1] + [ts_fst + 1] + [ts_end] + list(runData[ts_fst:ts_end])\n",
    "\n",
    "            # データフレーム化，結合\n",
    "            ts = pd.DataFrame(ts).T\n",
    "\n",
    "            ts_all = pd.concat([ts_all, ts])\n",
    "            \n",
    "            # 1ずつずらす\n",
    "            ts_fst = ts_fst + 1\n",
    "            ts_end = ts_end + 1\n",
    "            \n",
    "            \n",
    "    return ts_all"
   ]
  },
  {
   "cell_type": "markdown",
   "metadata": {},
   "source": [
    "## SVM_LOO関数\n",
    "学習と評価に用いるデータをdataで受け取り．  \n",
    "データからテストデータ，テストデータラベル，教師データ，教師データラベルを生成．  \n",
    "テストデータはdataにおける全時系列データ，教師データは条件に当てはまる時系列データであり，  \n",
    "テストデータに用いるデータごとに識別できたかできなかったか（1か0）を取得，全テストデータで識別できた(1)の割合を算出（leave-one-outと同じ要領）．  \n",
    "得られた割合をパーセント表記にし，main関数へ返す．"
   ]
  },
  {
   "cell_type": "code",
   "execution_count": 3,
   "metadata": {
    "collapsed": true
   },
   "outputs": [],
   "source": [
    "def SVM_LOO(data):\n",
    "\n",
    "    scores = np.zeros(len(data))\n",
    "\n",
    "    for i in range(len(data)):\n",
    "        \n",
    "        print(\"--------\" + str(i + 1) + \" / \" + str(len(data)) + \"---------\")\n",
    "\n",
    "        # テストデータの情報（タスク，試行数，時系列データの始まり，終わり）を取得\n",
    "        test_label = data.iloc[i, 0]\n",
    "        test_run = data.iloc[i, 1]\n",
    "        test_fst = data.iloc[i, 2]\n",
    "        test_end = data.iloc[i, 3]\n",
    "\n",
    "\n",
    "        ###### テストデータ\n",
    "\n",
    "        # 時系列データのみを抽出\n",
    "        X_test = data.iloc[i, 4:len(data.columns)]\n",
    "\n",
    "        # ベクトル化\n",
    "        X_test = X_test.as_matrix()\n",
    "        X_test = X_test.reshape(1, -1)\n",
    "\n",
    "        # ラベルを作成\n",
    "        y_test = np.array([test_label])\n",
    "        y_test = y_test.reshape(1, -1)\n",
    "\n",
    "        ###### 教師データ\n",
    "\n",
    "        # テストデータではない，テストデータに含まれるZ-scoreを含まないものを取得\n",
    "        traindata = data[(data['label'] != test_label) | (data['run'] != test_run) | (data['fst'] > test_end) | (data['end'] < test_fst)]\n",
    "\n",
    "        # 時系列データのみを抽出\n",
    "        X_train = traindata.iloc[:, 4:len(data.columns)]\n",
    "\n",
    "        # ベクトル化\n",
    "        X_train = X_train.as_matrix()\n",
    "\n",
    "        # ラベルを作成\n",
    "        y_train = np.array(list(traindata['label']))\n",
    "\n",
    "        # 線形SVMのインスタンスを生成\n",
    "        model = svm.SVC(kernel = 'linear', C=1)\n",
    "\n",
    "        # モデルの学習\n",
    "        model.fit(X_train, y_train)\n",
    "\n",
    "        # 評価結果を格納\n",
    "        scores[i] = model.score(X_test, y_test)\n",
    "        \n",
    "    # 評価結果の平均を求める\n",
    "    result = scores.mean()\n",
    "              \n",
    "    \n",
    "    # パーセント表記へ\n",
    "    result = round(result * 100, 1)\n",
    "    \n",
    "    print(str(scores) + '\\n')\n",
    "    \n",
    "    return result\n"
   ]
  },
  {
   "cell_type": "code",
   "execution_count": 4,
   "metadata": {},
   "outputs": [
    {
     "ename": "NameError",
     "evalue": "name 'PATH' is not defined",
     "output_type": "error",
     "traceback": [
      "\u001b[0;31m---------------------------------------------------------------------------\u001b[0m",
      "\u001b[0;31mNameError\u001b[0m                                 Traceback (most recent call last)",
      "\u001b[0;32m<ipython-input-4-c33b2bc5a4de>\u001b[0m in \u001b[0;36m<module>\u001b[0;34m()\u001b[0m\n\u001b[1;32m      2\u001b[0m \u001b[0;34m\u001b[0m\u001b[0m\n\u001b[1;32m      3\u001b[0m     \u001b[0;31m# 読み込みたいファイルのパス\u001b[0m\u001b[0;34m\u001b[0m\u001b[0;34m\u001b[0m\u001b[0m\n\u001b[0;32m----> 4\u001b[0;31m     \u001b[0mPATH_al45\u001b[0m \u001b[0;34m=\u001b[0m \u001b[0mPATH\u001b[0m \u001b[0;34m+\u001b[0m \u001b[0;34m'raw_al45.csv'\u001b[0m\u001b[0;34m\u001b[0m\u001b[0m\n\u001b[0m\u001b[1;32m      5\u001b[0m     \u001b[0mPATH_al135\u001b[0m \u001b[0;34m=\u001b[0m \u001b[0mPATH\u001b[0m \u001b[0;34m+\u001b[0m \u001b[0;34m'raw_al135.csv'\u001b[0m\u001b[0;34m\u001b[0m\u001b[0m\n\u001b[1;32m      6\u001b[0m \u001b[0;34m\u001b[0m\u001b[0m\n",
      "\u001b[0;31mNameError\u001b[0m: name 'PATH' is not defined"
     ]
    }
   ],
   "source": [
    "if __name__ == '__main__':\n",
    "    \n",
    "    # 読み込みたいファイルのパス\n",
    "    PATH_al45 = PATH + 'raw_al45.csv'\n",
    "    PATH_al135 = PATH + 'raw_al135.csv'\n",
    "    \n",
    "    # csvファイル読み込み\n",
    "    # headerは設定せず，転置後にset_index()する（header = 0にすると列名が変えられる）\n",
    "    al45 = pd.read_csv(PATH_al45, header = None, index_col = 0).T\n",
    "    al45.columns = range(0, len(al45.columns))\n",
    "    al45 = al45.set_index(0)\n",
    "    \n",
    "    al135 = pd.read_csv(PATH_al135, header = None, index_col = 0).T\n",
    "    al135.columns = range(0, len(al135.columns))\n",
    "    al135 = al135.set_index(0)"
   ]
  },
  {
   "cell_type": "code",
   "execution_count": 360,
   "metadata": {},
   "outputs": [
    {
     "name": "stdout",
     "output_type": "stream",
     "text": [
      "Voxel1\n",
      "0.0\n",
      "Voxel2\n",
      "0.0\n",
      "Voxel3\n",
      "0.0\n",
      "Voxel4\n",
      "0.0\n",
      "Voxel5\n",
      "0.0\n",
      "Voxel6\n",
      "0.0\n",
      "Voxel7\n",
      "0.0\n"
     ]
    }
   ],
   "source": [
    "    # ボクセル数\n",
    "    voxNum = len(al45) // 4\n",
    "    \n",
    "    # 全ボクセルの識別率を格納するデータフレーム\n",
    "    voxAc = pd.DataFrame(index = range(voxNum), columns = [col_name])\n",
    "    \n",
    "    counter = 0\n",
    "    csvcounter = 0\n",
    "    voxNames = []\n",
    "    \n",
    "    \n",
    "    for voxNo in range(voxNum):\n",
    "    \n",
    "        voxName = 'Voxel' + str(voxNo + 1)\n",
    "\n",
    "        print(voxName + '( ' + str(counter) + ' / ' + str(voxNum) + ' )')\n",
    "\n",
    "        # ボクセルのデータを取得\n",
    "        al45Vox = al45.loc[voxName]\n",
    "        al135Vox = al135.loc[voxName]\n",
    "        \n",
    "        # ボクセルにおける時系列データを取得\n",
    "        al45VoxTs = TsShift(al45Vox, 0)\n",
    "        al135VoxTs = TsShift(al135Vox, 1)\n",
    "        \n",
    "        # 全タスクを縦結合\n",
    "        VoxTs = pd.concat([al45VoxTs, al135VoxTs])\n",
    "        \n",
    "        # 0-3列目は条件判定用の要素，要素名をつけておく\n",
    "        col_names = list(VoxTs.columns)\n",
    "        col_names[0:4] = ['label', 'run', 'fst', 'end']\n",
    "        VoxTs.columns = col_names\n",
    "        \n",
    "        VoxTs.index = range(0,len(VoxTs))\n",
    "        \n",
    "        # 学習と評価\n",
    "        result_vox = SVM_LOO(VoxTs)\n",
    "        \n",
    "        print(result_vox)\n",
    "        \n",
    "        # データフレームに格納\n",
    "        voxAc.at[voxNo, :] = result_vox\n",
    "        \n",
    "        # 途中経過見る用\n",
    "        # 何ボクセルで一度出力するか\n",
    "        midNum = 5\n",
    "\n",
    "        if (counter % midNum == 0) and (counter != 0):\n",
    "\n",
    "            PATH_test = PATH + 'ACMID' + str(csvcounter) + '[loo]_VOXtimeseries' + str(N) +'_SVM.csv'\n",
    "            print(PATH_test)\n",
    "            MidVoxAc = voxAc.iloc[(csvcounter * midNum):((csvcounter + 1) * midNum), :]\n",
    "            MidVoxAc.index = voxNames[(csvcounter * midNum):((csvcounter + 1) * midNum)]\n",
    "            MidVoxAc.to_csv(PATH_test, index = True)\n",
    "\n",
    "            csvcounter = csvcounter + 1\n",
    "        \n",
    "        counter = counter + 1\n",
    "        voxNames = voxNames + [voxName]\n",
    "        \n",
    "        "
   ]
  },
  {
   "cell_type": "code",
   "execution_count": 352,
   "metadata": {
    "collapsed": true
   },
   "outputs": [],
   "source": [
    "    # csv書き出し\n",
    "    PATH_RESULT = PATH + 'ACCURACY[loo]_VOXtimeseries' + str(N) +'_SVM.csv'\n",
    "    voxAc.to_csv(PATH_RESULT, index = True)\n",
    "    \n",
    "    # 行名つける\n",
    "    voxAc.index = voxNames\n",
    "\n",
    "    # csv書き出し\n",
    "    PATH_RESULT = PATH + 'ACCURACY[loo]_VOXtimeseries' + str(N) +'_SVM.csv'\n",
    "    voxAc.to_csv(PATH_RESULT, index = True)\n",
    "    "
   ]
  },
  {
   "cell_type": "code",
   "execution_count": null,
   "metadata": {
    "collapsed": true
   },
   "outputs": [],
   "source": []
  }
 ],
 "metadata": {
  "kernelspec": {
   "display_name": "Python 3",
   "language": "python",
   "name": "python3"
  },
  "language_info": {
   "codemirror_mode": {
    "name": "ipython",
    "version": 3
   },
   "file_extension": ".py",
   "mimetype": "text/x-python",
   "name": "python",
   "nbconvert_exporter": "python",
   "pygments_lexer": "ipython3",
   "version": "3.6.1"
  }
 },
 "nbformat": 4,
 "nbformat_minor": 2
}
