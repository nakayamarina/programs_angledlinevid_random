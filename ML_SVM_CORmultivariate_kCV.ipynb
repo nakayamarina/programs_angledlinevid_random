{
 "cells": [
  {
   "cell_type": "markdown",
   "metadata": {},
   "source": [
    "# SVMによる相関の高いボクセルを用いた学習と性能評価（多変量解析）\n",
    "----\n",
    "\n",
    "引数：raw_al45.csv/raw_al135.csvがあるディレクトリまでのパス\n",
    "\n",
    "----\n",
    "\n",
    "入力：raw_al45.csv/raw_al135.csv\n",
    "\n",
    "----\n",
    "\n",
    "出力：ACCURACY[loo or k_cv]_CORmultivariate_SVM.csv ボクセルごとの識別性能評価結果一覧\n",
    "\n",
    "----\n",
    "\n",
    "相関の高いボクセルを用いて多変量解析を行う．  \n",
    "k分割交差検証法により1グループをテストデータの，k-1グループを教師データとし，SVMを用いて学習，精度評価．   \n",
    "ベクトル：各ボクセルにおけるある時刻のZ-score（ボクセル数ベクトル）"
   ]
  },
  {
   "cell_type": "code",
   "execution_count": 1,
   "metadata": {},
   "outputs": [
    {
     "name": "stdout",
     "output_type": "stream",
     "text": [
      "############ ML_SVM_CORvariate_kCV.py program excution ############\n"
     ]
    }
   ],
   "source": [
    "print('############ ML_SVM_CORvariate_kCV.py program excution ############')"
   ]
  },
  {
   "cell_type": "code",
   "execution_count": 2,
   "metadata": {},
   "outputs": [
    {
     "name": "stderr",
     "output_type": "stream",
     "text": [
      "/Users/nakayamarina/.pyenv/versions/anaconda3-4.4.0/lib/python3.6/site-packages/sklearn/cross_validation.py:41: DeprecationWarning: This module was deprecated in version 0.18 in favor of the model_selection module into which all the refactored classes and functions are moved. Also note that the interface of the new CV iterators are different from that of this module. This module will be removed in 0.20.\n",
      "  \"This module will be removed in 0.20.\", DeprecationWarning)\n"
     ]
    }
   ],
   "source": [
    "import numpy as np\n",
    "import pandas as pd\n",
    "import sys\n",
    "from sklearn import cross_validation\n",
    "from sklearn import svm\n",
    "from sklearn.model_selection import train_test_split"
   ]
  },
  {
   "cell_type": "code",
   "execution_count": 159,
   "metadata": {
    "collapsed": true
   },
   "outputs": [],
   "source": [
    "#args = sys.argv\n",
    "#PATH = args[1]\n",
    "\n",
    "# jupyter notebookのときはここで指定\n",
    "PATH = '../MaskBrodmann/20181119tm/10vox_RawData/'\n",
    "\n",
    "# 検証手法\n",
    "kCV = 10\n",
    "\n",
    "# 試行数\n",
    "runNum = 4\n",
    "\n",
    "# 検証手法\n",
    "col_name = str(kCV) + 'CV'"
   ]
  },
  {
   "cell_type": "markdown",
   "metadata": {},
   "source": [
    "## SVM_kCV関数\n",
    "引数としてデータをX，ラベルをyで受け取る．  \n",
    "交差検証法の一つk分割交差検証法で識別精度評価を行う．  "
   ]
  },
  {
   "cell_type": "code",
   "execution_count": 160,
   "metadata": {
    "collapsed": true
   },
   "outputs": [],
   "source": [
    "def SVM_kCV(X, y):\n",
    "    \n",
    "    # 線形SVMのインスタンスを生成\n",
    "    model = svm.SVC(kernel = 'linear', C = 1)\n",
    "    \n",
    "    # k分割し，1グループをテストデータ，残りグループを教師データにして評価\n",
    "    # すべてのグループに対して行う\n",
    "    # 評価結果（識別率）を格納\n",
    "    CVscore = cross_validation.cross_val_score(model, X, y, cv = kCV)\n",
    "    \n",
    "    # 評価結果（識別率）の平均を求める\n",
    "    result = CVscore.mean()\n",
    "    \n",
    "    # パーセントに直す\n",
    "    result = round(result * 100, 1)\n",
    "\n",
    "    print('k = ' + str(kCV) + '：' + str(CVscore))\n",
    "    \n",
    "    return result"
   ]
  },
  {
   "cell_type": "markdown",
   "metadata": {},
   "source": [
    "## Reshape関数\n",
    "引数として整形したいデータをdataで受け取る．  \n",
    "各ボクセルが試行ごとに分割されているので1列にまとめ直して返す．"
   ]
  },
  {
   "cell_type": "code",
   "execution_count": 161,
   "metadata": {
    "collapsed": true
   },
   "outputs": [],
   "source": [
    "def Reshape(data):\n",
    "    \n",
    "    # ボクセル数\n",
    "    voxNum = len(data) // runNum\n",
    "    \n",
    "    # まとめ直したデータ格納用\n",
    "    data_new = pd.DataFrame(index = [], columns = [])\n",
    "    \n",
    "    for counter in range(voxNum):\n",
    "        \n",
    "        # 各ボクセルのデータ取得\n",
    "        vox = data.iloc[(counter * runNum):((counter + 1) * runNum), :]\n",
    "        \n",
    "        # ボクセル名取得\n",
    "        voxName = list(set(vox.index))[0]\n",
    "        print(voxName + '( ' + str(counter+1) + ' / ' + str(voxNum) + ' )')\n",
    "        \n",
    "        # １列データに変換する\n",
    "        # reshapeを使うためにarray型に変換\n",
    "        vox_arr = vox.as_matrix()\n",
    "        \n",
    "        # reshapeを使って1列データへ，データフレーム化\n",
    "        vox_new = pd.DataFrame(vox_arr.reshape(-1))\n",
    "        \n",
    "        # カラム名をつける\n",
    "        vox_new.columns = [voxName]\n",
    "\n",
    "        data_new = pd.concat([data_new, vox_new], axis = 1)\n",
    "        \n",
    "    return data_new"
   ]
  },
  {
   "cell_type": "markdown",
   "metadata": {},
   "source": [
    "# main関数"
   ]
  },
  {
   "cell_type": "code",
   "execution_count": 162,
   "metadata": {
    "collapsed": true
   },
   "outputs": [],
   "source": [
    "if __name__ == '__main__':\n",
    "    \n",
    "    # 読み込みたいファイルのパス\n",
    "    PATH_al45 = PATH + 'raw_al45.csv'\n",
    "    PATH_al135 = PATH + 'raw_al135.csv'\n",
    "    \n",
    "    # csvファイル読み込み\n",
    "    # headerは設定せず，転置後にset_index()する（header = 0にすると列名が変えられる）\n",
    "    al45 = pd.read_csv(PATH_al45, header = None, index_col = 0).T\n",
    "    al45.columns = range(0, len(al45.columns))\n",
    "    al45 = al45.set_index(0)\n",
    "    \n",
    "    al135 = pd.read_csv(PATH_al135, header = None, index_col = 0).T\n",
    "    al135.columns = range(0, len(al135.columns))\n",
    "    al135 = al135.set_index(0)"
   ]
  },
  {
   "cell_type": "code",
   "execution_count": 163,
   "metadata": {},
   "outputs": [
    {
     "name": "stdout",
     "output_type": "stream",
     "text": [
      "al45\n",
      "Voxel1031( 1 / 10 )\n",
      "Voxel547( 2 / 10 )\n",
      "Voxel548( 3 / 10 )\n",
      "Voxel564( 4 / 10 )\n",
      "Voxel583( 5 / 10 )\n",
      "Voxel601( 6 / 10 )\n",
      "Voxel602( 7 / 10 )\n",
      "Voxel662( 8 / 10 )\n",
      "Voxel667( 9 / 10 )\n",
      "Voxel668( 10 / 10 )\n",
      "al135\n",
      "Voxel1031( 1 / 10 )\n",
      "Voxel547( 2 / 10 )\n",
      "Voxel548( 3 / 10 )\n",
      "Voxel564( 4 / 10 )\n",
      "Voxel583( 5 / 10 )\n",
      "Voxel601( 6 / 10 )\n",
      "Voxel602( 7 / 10 )\n",
      "Voxel662( 8 / 10 )\n",
      "Voxel667( 9 / 10 )\n",
      "Voxel668( 10 / 10 )\n"
     ]
    }
   ],
   "source": [
    "    # データ整形\n",
    "    print('al45')\n",
    "    al45_new = Reshape(al45)\n",
    "    \n",
    "    print('al135')\n",
    "    al135_new = Reshape(al135)"
   ]
  },
  {
   "cell_type": "code",
   "execution_count": 164,
   "metadata": {},
   "outputs": [],
   "source": [
    "    # 各タスクのデータを結合\n",
    "    all_data = pd.concat([al45_new, al135_new], axis = 0)\n",
    "    \n",
    "    # ベクトル化\n",
    "    X = all_data.as_matrix()"
   ]
  },
  {
   "cell_type": "code",
   "execution_count": 165,
   "metadata": {},
   "outputs": [],
   "source": [
    "    # ラベル作成 al45 = 0, al135 = 1\n",
    "    label_al45 = np.zeros(len(al45_new))\n",
    "    label_al135 = np.ones(len(al135_new))\n",
    "    \n",
    "    y = np.r_[label_al45, label_al135]"
   ]
  },
  {
   "cell_type": "code",
   "execution_count": 166,
   "metadata": {},
   "outputs": [
    {
     "name": "stdout",
     "output_type": "stream",
     "text": [
      "k = 10：[ 0.73611111  0.625       0.47142857  0.68571429  0.67142857  0.44285714\n",
      "  0.55714286  0.7         0.67142857  0.47142857]\n",
      "60.3\n"
     ]
    }
   ],
   "source": [
    "    # 学習と評価\n",
    "    result = SVM_kCV(X, y)\n",
    "    print(result)"
   ]
  },
  {
   "cell_type": "code",
   "execution_count": 175,
   "metadata": {
    "collapsed": true
   },
   "outputs": [],
   "source": [
    "    # データフレーム化する際のインデックス名作成\n",
    "    index_name = str(al45_new.shape[1]) + 'voxels'\n",
    "    \n",
    "    # データフレーム化\n",
    "    result_df = pd.DataFrame({col_name:[result]}, index = [index_name])"
   ]
  },
  {
   "cell_type": "code",
   "execution_count": 180,
   "metadata": {
    "collapsed": true
   },
   "outputs": [],
   "source": [
    "    # csv書き出し\n",
    "    PATH_RESULT = PATH + 'ACCURACY[' + str(kCV) + 'CV]_CORmultivariate' + '_SVM.csv'\n",
    "    result_df.to_csv(PATH_RESULT)"
   ]
  },
  {
   "cell_type": "code",
   "execution_count": null,
   "metadata": {
    "collapsed": true
   },
   "outputs": [],
   "source": []
  }
 ],
 "metadata": {
  "kernelspec": {
   "display_name": "Python 3",
   "language": "python",
   "name": "python3"
  },
  "language_info": {
   "codemirror_mode": {
    "name": "ipython",
    "version": 3
   },
   "file_extension": ".py",
   "mimetype": "text/x-python",
   "name": "python",
   "nbconvert_exporter": "python",
   "pygments_lexer": "ipython3",
   "version": "3.6.1"
  }
 },
 "nbformat": 4,
 "nbformat_minor": 2
}
