{
 "cells": [
  {
   "cell_type": "markdown",
   "metadata": {},
   "source": [
    "# 実験から得られたfMRIデータの前処理\n",
    "----  \n",
    "  \n",
    "引数：Y01.csv, Y02.csv,... の入ったVexelディレクトリがあるディレクトリまでのパス  \n",
    "  \n",
    "---  \n",
    "\n",
    "入力：Y01.csv, Y02.csv,...  \n",
    "  \n",
    "---  \n",
    "  \n",
    "出力：  \n",
    "* RawData/raw_all.csv : すべてのボクセル45degrees,135degrees（rest時は除く）のZ-scoreをまとめたもの\n",
    "* RawData/raw_al45.csv : 45度の斜め線動画提示時のZ-scoreだけをまとめたもの\n",
    "* RawData/raw_al135.csv : 135度の斜め線動画提示時のZ-scoreだけをまとめたもの\n",
    "* RawData/Raw_image/voxel[ボクセル番号]-[試行数]_al45.png：45度の斜め線動画提示時の各ボクセルのデータをプロットしたもの\n",
    "* RawData/Raw_image/voxel[ボクセル番号]-[試行数]_al135.png：135度の斜め線動画提示時の各ボクセルのデータをプロットしたもの\n",
    "  \n",
    "----\n",
    "\n",
    "\n",
    "/VoxelディレクトリのY01.csv, Y02.csv, ... のデータには，選択してきた数ボクセルそれぞれのZ-score（賦活度合いみたいなもの）が記録されている．  \n",
    " \n",
    "ここでは，全タスク，各タスクごとに分別した時系列データを得る．  \n",
    "  \n",
    "  "
   ]
  },
  {
   "cell_type": "code",
   "execution_count": 1,
   "metadata": {},
   "outputs": [
    {
     "name": "stdout",
     "output_type": "stream",
     "text": [
      "########## Preprocessing_state.py program excution ############\n"
     ]
    }
   ],
   "source": [
    "print('########## Preprocessing_state.py program excution ############')"
   ]
  },
  {
   "cell_type": "code",
   "execution_count": 2,
   "metadata": {
    "collapsed": true
   },
   "outputs": [],
   "source": [
    "import glob\n",
    "import sys\n",
    "import pandas as pd\n",
    "import matplotlib.pyplot as plt\n",
    "import os\n",
    "import numpy as np"
   ]
  },
  {
   "cell_type": "markdown",
   "metadata": {},
   "source": [
    "コマンドライン引数で/Voxelディレクトリがあるディレクトリまでのパスを取得"
   ]
  },
  {
   "cell_type": "code",
   "execution_count": 9,
   "metadata": {
    "collapsed": true
   },
   "outputs": [],
   "source": [
    "#args = sys.argv\n",
    "#PATH_pre = args[1]\n",
    "\n",
    "# jupyter notebookのときはここで指定\n",
    "PATH_pre = '../SpmActive/20181119mt/'\n",
    "\n",
    "# /Voxelディレクトリまでのパス\n",
    "PATH = PATH_pre + 'Voxel/'"
   ]
  },
  {
   "cell_type": "code",
   "execution_count": 10,
   "metadata": {
    "collapsed": true
   },
   "outputs": [],
   "source": [
    "# plotするなら1，plotしないなら0\n",
    "imgPlot = 1\n",
    "\n",
    "# 試行数\n",
    "runNum = 4\n",
    "\n",
    "# restのスキャン数\n",
    "restNum = 8\n",
    "\n",
    "# 1タスクのスキャン数\n",
    "taskNum = 88"
   ]
  },
  {
   "cell_type": "markdown",
   "metadata": {},
   "source": [
    "後で出力するcsvファイルを保存するディレクトリ（RawData）、pngファイルを保存するディレクトリ（Raw_image）を作成"
   ]
  },
  {
   "cell_type": "code",
   "execution_count": 11,
   "metadata": {},
   "outputs": [],
   "source": [
    "# RawDataのディレクトリ名・パス\n",
    "DIR_RAW = PATH + '../RawData'\n",
    "PATH_RAW = DIR_RAW + '/'\n",
    "\n",
    "# すでに存在する場合は何もせず，存在していない場合はディレクトリ作成\n",
    "if not os.path.exists(DIR_RAW):\n",
    "    os.mkdir(DIR_RAW)\n",
    "    \n",
    "# Raw_imageのディレクトリ名・パス\n",
    "DIR_image = PATH_RAW + 'Raw_image'\n",
    "PATH_image = DIR_image + '/'\n",
    "\n",
    "# すでに存在する場合は何もせず，存在していない場合はディレクトリ作成\n",
    "if not os.path.exists(DIR_image):\n",
    "    os.mkdir(DIR_image) \n",
    "    \n"
   ]
  },
  {
   "cell_type": "markdown",
   "metadata": {},
   "source": [
    "## splitVoxRun関数\n",
    "\n",
    "引数に全ボクセルのデータをまとめたデータフレームを受け取り，各ボクセルで試行ごとに分割結合する．"
   ]
  },
  {
   "cell_type": "code",
   "execution_count": 12,
   "metadata": {
    "collapsed": true
   },
   "outputs": [],
   "source": [
    "def splitVoxRun(data):\n",
    "\n",
    "    # 各試行ごとに分割，横結合（Voxel1-Run1, Voxel1-Run2, Voxel1-Run3, Voxel1-Run4, Voxel2-Run1, Voxel2-Run2...）\n",
    "    \n",
    "    # データ格納用\n",
    "    vox_run_all = pd.DataFrame(index = [], columns = [])\n",
    "\n",
    "    for i in range(len(data.columns)):\n",
    "\n",
    "        # ボクセルで試行ごとに分割，reshapeを使って1列データを(試行数，1タスクのスキャン数)に\n",
    "        vox_run = np.reshape(data.iloc[:, i], (runNum, taskNum))\n",
    "\n",
    "        # 転置してデータフレーム化\n",
    "        vox_run = pd.DataFrame(vox_run).T\n",
    "\n",
    "        # 列名つける\n",
    "        col_name = ['Voxel' + str(i + 1)] * runNum\n",
    "        vox_run.columns = col_name\n",
    "\n",
    "        # データ格納\n",
    "        vox_run_all = pd.concat([vox_run_all, vox_run], axis = 1)\n",
    "\n",
    "    return vox_run_all"
   ]
  },
  {
   "cell_type": "markdown",
   "metadata": {},
   "source": [
    "## plotIMAGE関数\n"
   ]
  },
  {
   "cell_type": "code",
   "execution_count": 13,
   "metadata": {
    "collapsed": true
   },
   "outputs": [],
   "source": [
    "def plotIMAGE(data, task):\n",
    "    \n",
    "    col_name = sorted(set(data.columns))\n",
    "    \n",
    "    # 何列目か\n",
    "    i = 0\n",
    "    \n",
    "    # ボクセル（列）の数だけ繰り返す\n",
    "    for vox_name in col_name:\n",
    "        \n",
    "        for j in range(runNum):\n",
    "        \n",
    "            # この後に出力するpngファイル名\n",
    "            FILE_NAME = DIR_image + '/' + task + '-' + vox_name + '-Run' + str(j+1) + '.png'\n",
    "\n",
    "            # データをplot\n",
    "            plt.plot(data.iloc[:, i], label = 'fMRIdata')\n",
    "\n",
    "            # グラフのタイトル\n",
    "            graph_name = 'fMRIdata : ' + task + '-' + vox_name + '-Run' + str(j+1)\n",
    "            plt.title(graph_name)\n",
    "            plt.ylim([-5,5])\n",
    "            plt.ylabel('Z-score')\n",
    "            plt.xlabel('Time(scan)')\n",
    "\n",
    "            # グラフの凡例\n",
    "            plt.legend()\n",
    "\n",
    "            # ファイル名をつけて保存，終了\n",
    "            plt.savefig(FILE_NAME)\n",
    "            plt.close()\n",
    "\n",
    "            print(FILE_NAME)\n",
    "            \n",
    "            i = i + 1"
   ]
  },
  {
   "cell_type": "markdown",
   "metadata": {},
   "source": [
    "## main関数 "
   ]
  },
  {
   "cell_type": "markdown",
   "metadata": {},
   "source": [
    "* fMRIデータ読み込み\n",
    "* 全ボクセルデータ連結\n",
    "* 全ボクセルデータをcsvで書き出し"
   ]
  },
  {
   "cell_type": "code",
   "execution_count": 14,
   "metadata": {
    "collapsed": true
   },
   "outputs": [],
   "source": [
    "if __name__ == '__main__':\n",
    "    # /Voxelディレクトリ内のcsvファイルのパスを取得\n",
    "    csv_file = PATH + '*.csv'\n",
    "    files = []\n",
    "    files = glob.glob(csv_file)\n",
    "    files.sort()"
   ]
  },
  {
   "cell_type": "code",
   "execution_count": 15,
   "metadata": {
    "collapsed": true
   },
   "outputs": [],
   "source": [
    "    # 全ボクセルのデータをまとめる用\n",
    "    brain = pd.DataFrame(index = [], columns = [])\n",
    "    \n",
    "    # 各ボクセルのZ-scoreが記録されたファイルの読み込み，結合\n",
    "    for i in range(len(files)):\n",
    "\n",
    "        row_name = \"Voxel\" + str(i+1)\n",
    "        data = pd.read_csv(files[i], names=(row_name,))\n",
    "\n",
    "        brain = pd.concat([brain, data], axis = 1)"
   ]
  },
  {
   "cell_type": "code",
   "execution_count": 16,
   "metadata": {
    "collapsed": true
   },
   "outputs": [],
   "source": [
    "    # 各タスクごとのマスク作成\n",
    "    maskAl45 = (([False] * restNum) + ([True] * taskNum) + ([False] * restNum) + ([False] * taskNum) + ([False] * restNum)) * 4\n",
    "    maskAl135 = (([False] * restNum) + ([False] * taskNum) + ([False] * restNum) + ([True] * taskNum) + ([False] * restNum)) * 4"
   ]
  },
  {
   "cell_type": "code",
   "execution_count": 17,
   "metadata": {
    "collapsed": true
   },
   "outputs": [],
   "source": [
    "    # mask適用\n",
    "    dataAl45 = brain[maskAl45]\n",
    "    dataAl135 = brain[maskAl135]"
   ]
  },
  {
   "cell_type": "code",
   "execution_count": 158,
   "metadata": {},
   "outputs": [
    {
     "name": "stderr",
     "output_type": "stream",
     "text": [
      "/Users/nakayamarina/.pyenv/versions/anaconda3-4.4.0/lib/python3.6/site-packages/numpy/core/fromnumeric.py:57: FutureWarning: reshape is deprecated and will raise in a subsequent release. Please use .values.reshape(...) instead\n",
      "  return getattr(obj, method)(*args, **kwds)\n"
     ]
    }
   ],
   "source": [
    "    # splitVoxRun関数で各ボクセル，各試行で分割，csv書き出し\n",
    "    vox_run_al45 = splitVoxRun(dataAl45)\n",
    "    al45_file = PATH_RAW + 'raw_al45.csv'\n",
    "    vox_run_al45.to_csv(al45_file)\n",
    "    \n",
    "    vox_run_al135 = splitVoxRun(dataAl135)\n",
    "    al135_file = PATH_RAW + 'raw_al135.csv'\n",
    "    vox_run_al135.to_csv(al135_file)"
   ]
  },
  {
   "cell_type": "code",
   "execution_count": 159,
   "metadata": {},
   "outputs": [
    {
     "name": "stdout",
     "output_type": "stream",
     "text": [
      "../Active/20181119mt/Voxel/../RawData/Raw_image/angledlinevid-45degree-Voxel1-Run1.png\n",
      "../Active/20181119mt/Voxel/../RawData/Raw_image/angledlinevid-45degree-Voxel1-Run2.png\n",
      "../Active/20181119mt/Voxel/../RawData/Raw_image/angledlinevid-45degree-Voxel1-Run3.png\n",
      "../Active/20181119mt/Voxel/../RawData/Raw_image/angledlinevid-45degree-Voxel1-Run4.png\n",
      "../Active/20181119mt/Voxel/../RawData/Raw_image/angledlinevid-45degree-Voxel2-Run1.png\n",
      "../Active/20181119mt/Voxel/../RawData/Raw_image/angledlinevid-45degree-Voxel2-Run2.png\n",
      "../Active/20181119mt/Voxel/../RawData/Raw_image/angledlinevid-45degree-Voxel2-Run3.png\n",
      "../Active/20181119mt/Voxel/../RawData/Raw_image/angledlinevid-45degree-Voxel2-Run4.png\n",
      "../Active/20181119mt/Voxel/../RawData/Raw_image/angledlinevid-45degree-Voxel3-Run1.png\n",
      "../Active/20181119mt/Voxel/../RawData/Raw_image/angledlinevid-45degree-Voxel3-Run2.png\n",
      "../Active/20181119mt/Voxel/../RawData/Raw_image/angledlinevid-45degree-Voxel3-Run3.png\n",
      "../Active/20181119mt/Voxel/../RawData/Raw_image/angledlinevid-45degree-Voxel3-Run4.png\n",
      "../Active/20181119mt/Voxel/../RawData/Raw_image/angledlinevid-45degree-Voxel4-Run1.png\n",
      "../Active/20181119mt/Voxel/../RawData/Raw_image/angledlinevid-45degree-Voxel4-Run2.png\n",
      "../Active/20181119mt/Voxel/../RawData/Raw_image/angledlinevid-45degree-Voxel4-Run3.png\n",
      "../Active/20181119mt/Voxel/../RawData/Raw_image/angledlinevid-45degree-Voxel4-Run4.png\n",
      "../Active/20181119mt/Voxel/../RawData/Raw_image/angledlinevid-45degree-Voxel5-Run1.png\n",
      "../Active/20181119mt/Voxel/../RawData/Raw_image/angledlinevid-45degree-Voxel5-Run2.png\n",
      "../Active/20181119mt/Voxel/../RawData/Raw_image/angledlinevid-45degree-Voxel5-Run3.png\n",
      "../Active/20181119mt/Voxel/../RawData/Raw_image/angledlinevid-45degree-Voxel5-Run4.png\n",
      "../Active/20181119mt/Voxel/../RawData/Raw_image/angledlinevid-45degree-Voxel6-Run1.png\n",
      "../Active/20181119mt/Voxel/../RawData/Raw_image/angledlinevid-45degree-Voxel6-Run2.png\n",
      "../Active/20181119mt/Voxel/../RawData/Raw_image/angledlinevid-45degree-Voxel6-Run3.png\n",
      "../Active/20181119mt/Voxel/../RawData/Raw_image/angledlinevid-45degree-Voxel6-Run4.png\n",
      "../Active/20181119mt/Voxel/../RawData/Raw_image/angledlinevid-45degree-Voxel7-Run1.png\n",
      "../Active/20181119mt/Voxel/../RawData/Raw_image/angledlinevid-45degree-Voxel7-Run2.png\n",
      "../Active/20181119mt/Voxel/../RawData/Raw_image/angledlinevid-45degree-Voxel7-Run3.png\n",
      "../Active/20181119mt/Voxel/../RawData/Raw_image/angledlinevid-45degree-Voxel7-Run4.png\n",
      "../Active/20181119mt/Voxel/../RawData/Raw_image/angledlinevid-135degree-Voxel1-Run1.png\n",
      "../Active/20181119mt/Voxel/../RawData/Raw_image/angledlinevid-135degree-Voxel1-Run2.png\n",
      "../Active/20181119mt/Voxel/../RawData/Raw_image/angledlinevid-135degree-Voxel1-Run3.png\n",
      "../Active/20181119mt/Voxel/../RawData/Raw_image/angledlinevid-135degree-Voxel1-Run4.png\n",
      "../Active/20181119mt/Voxel/../RawData/Raw_image/angledlinevid-135degree-Voxel2-Run1.png\n",
      "../Active/20181119mt/Voxel/../RawData/Raw_image/angledlinevid-135degree-Voxel2-Run2.png\n",
      "../Active/20181119mt/Voxel/../RawData/Raw_image/angledlinevid-135degree-Voxel2-Run3.png\n",
      "../Active/20181119mt/Voxel/../RawData/Raw_image/angledlinevid-135degree-Voxel2-Run4.png\n",
      "../Active/20181119mt/Voxel/../RawData/Raw_image/angledlinevid-135degree-Voxel3-Run1.png\n",
      "../Active/20181119mt/Voxel/../RawData/Raw_image/angledlinevid-135degree-Voxel3-Run2.png\n",
      "../Active/20181119mt/Voxel/../RawData/Raw_image/angledlinevid-135degree-Voxel3-Run3.png\n",
      "../Active/20181119mt/Voxel/../RawData/Raw_image/angledlinevid-135degree-Voxel3-Run4.png\n",
      "../Active/20181119mt/Voxel/../RawData/Raw_image/angledlinevid-135degree-Voxel4-Run1.png\n",
      "../Active/20181119mt/Voxel/../RawData/Raw_image/angledlinevid-135degree-Voxel4-Run2.png\n",
      "../Active/20181119mt/Voxel/../RawData/Raw_image/angledlinevid-135degree-Voxel4-Run3.png\n",
      "../Active/20181119mt/Voxel/../RawData/Raw_image/angledlinevid-135degree-Voxel4-Run4.png\n",
      "../Active/20181119mt/Voxel/../RawData/Raw_image/angledlinevid-135degree-Voxel5-Run1.png\n",
      "../Active/20181119mt/Voxel/../RawData/Raw_image/angledlinevid-135degree-Voxel5-Run2.png\n",
      "../Active/20181119mt/Voxel/../RawData/Raw_image/angledlinevid-135degree-Voxel5-Run3.png\n",
      "../Active/20181119mt/Voxel/../RawData/Raw_image/angledlinevid-135degree-Voxel5-Run4.png\n",
      "../Active/20181119mt/Voxel/../RawData/Raw_image/angledlinevid-135degree-Voxel6-Run1.png\n",
      "../Active/20181119mt/Voxel/../RawData/Raw_image/angledlinevid-135degree-Voxel6-Run2.png\n",
      "../Active/20181119mt/Voxel/../RawData/Raw_image/angledlinevid-135degree-Voxel6-Run3.png\n",
      "../Active/20181119mt/Voxel/../RawData/Raw_image/angledlinevid-135degree-Voxel6-Run4.png\n",
      "../Active/20181119mt/Voxel/../RawData/Raw_image/angledlinevid-135degree-Voxel7-Run1.png\n",
      "../Active/20181119mt/Voxel/../RawData/Raw_image/angledlinevid-135degree-Voxel7-Run2.png\n",
      "../Active/20181119mt/Voxel/../RawData/Raw_image/angledlinevid-135degree-Voxel7-Run3.png\n",
      "../Active/20181119mt/Voxel/../RawData/Raw_image/angledlinevid-135degree-Voxel7-Run4.png\n"
     ]
    }
   ],
   "source": [
    "    if imgPlot == 1:\n",
    "        \n",
    "        plotIMAGE(vox_run_al45, 'angledlinevid-45degrees')\n",
    "        plotIMAGE(vox_run_al135, 'angledlinevid-135degrees')"
   ]
  },
  {
   "cell_type": "code",
   "execution_count": null,
   "metadata": {
    "collapsed": true
   },
   "outputs": [],
   "source": []
  }
 ],
 "metadata": {
  "kernelspec": {
   "display_name": "Python 3",
   "language": "python",
   "name": "python3"
  },
  "language_info": {
   "codemirror_mode": {
    "name": "ipython",
    "version": 3
   },
   "file_extension": ".py",
   "mimetype": "text/x-python",
   "name": "python",
   "nbconvert_exporter": "python",
   "pygments_lexer": "ipython3",
   "version": "3.6.1"
  }
 },
 "nbformat": 4,
 "nbformat_minor": 2
}
