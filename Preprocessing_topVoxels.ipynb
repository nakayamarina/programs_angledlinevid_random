{
 "cells": [
  {
   "cell_type": "markdown",
   "metadata": {},
   "source": [
    "# 全ボクセルファイルから指定ボクセルのみのZ-scoreを抽出\n",
    "----\n",
    "\n",
    "引数：raw_al45.csv/raw_al135.csvがあるディレクトリまでのパス\n",
    "\n",
    "----\n",
    "\n",
    "入力：raw_al45.csv/raw_al135.csv/ボクセルをランク順位にしたcsvファイル/指定するボクセル数(k)\n",
    "\n",
    "----\n",
    "\n",
    "出力：  \n",
    "* (指定するボクセル数(k))vox_RawData/raw_al45.csv：指定したボクセルにおける45度の斜め線動画呈示時のZ-score\n",
    "* (指定するボクセル数(k))vox_RawData/raw_al135.csv：指定したボクセルにおける135度の斜め線動画呈示時のZ-score\n",
    "----\n",
    "  \n",
    "ボクセルをランク順にしたファイル(correlationmap.csvやACCURACY_BA...csv)をから上位k個のボクセル名を取得する．  \n",
    "取得したボクセル名と一致するものをrawファイルから探し，Z-scoreを抽出する．この時のデータは新しく作ったディレクトリに保存する．\n"
   ]
  },
  {
   "cell_type": "code",
   "execution_count": 117,
   "metadata": {},
   "outputs": [
    {
     "name": "stdout",
     "output_type": "stream",
     "text": [
      "########## Preprocessing_topVoxels.py program excution ############\n"
     ]
    }
   ],
   "source": [
    "print('########## Preprocessing_topVoxels.py program excution ############')"
   ]
  },
  {
   "cell_type": "code",
   "execution_count": 118,
   "metadata": {
    "collapsed": true
   },
   "outputs": [],
   "source": [
    "import glob\n",
    "import sys\n",
    "import pandas as pd\n",
    "import matplotlib.pyplot as plt\n",
    "import os\n",
    "import numpy as np"
   ]
  },
  {
   "cell_type": "code",
   "execution_count": 119,
   "metadata": {
    "collapsed": true
   },
   "outputs": [],
   "source": [
    "# args = sys.argv\n",
    "# PATH_pre = args[1]\n",
    "\n",
    "# jupyter notebookのときはここで指定\n",
    "PATH_pre = '../SpmActive/20181119tm/RawData/'\n",
    "\n",
    "# 何ボクセル取得するか\n",
    "k_list = [4, 6]\n"
   ]
  },
  {
   "cell_type": "code",
   "execution_count": 1,
   "metadata": {
    "collapsed": true
   },
   "outputs": [],
   "source": [
    "# ボクセルをランク順にしたファイル名\n",
    "rankFile = 'correlationmap.csv'\n",
    "\n",
    "# なんのランクか\n",
    "rankName = 'COR'"
   ]
  },
  {
   "cell_type": "markdown",
   "metadata": {},
   "source": [
    "# extraction_vox関数\n",
    "もとのrawファイルに記録されているZ-scoreをdata，上位k個のボクセル名をインデックスとしたデータフレームをrank_k，タスク名をtask，新しいRawDataのディレクトリのパスをpathで取得．  \n",
    "上位k個に含まれるボクセルのZ-scoreを抽出，csvファイル書き出し"
   ]
  },
  {
   "cell_type": "code",
   "execution_count": 126,
   "metadata": {
    "collapsed": true
   },
   "outputs": [],
   "source": [
    "def extraction_vox(data, rank_k, task, path):\n",
    "    \n",
    "\n",
    "    # インデックスでmergeすることで，dataとrank_kの共通インデックスのみを抽出\n",
    "    data_k = pd.merge(data, rank_k, left_index = True, right_index = True)\n",
    "\n",
    "    # もとのrawファイルと同様の形にするため転地\n",
    "    data_k = data_k.T\n",
    "    \n",
    "    # csv書き出し\n",
    "    PATH_file = path + task\n",
    "    print(PATH_file)\n",
    "    \n",
    "    data_k.to_csv(PATH_file)"
   ]
  },
  {
   "cell_type": "markdown",
   "metadata": {},
   "source": [
    "# main関数"
   ]
  },
  {
   "cell_type": "code",
   "execution_count": 127,
   "metadata": {
    "collapsed": true
   },
   "outputs": [],
   "source": [
    "if __name__ == '__main__':\n",
    "\n",
    "    # 読み込みたいファイルのパス\n",
    "    al45_name = 'raw_al45.csv'\n",
    "    PATH_al45 = PATH_pre + al45_name\n",
    "\n",
    "    al135_name = 'raw_al135.csv'\n",
    "    PATH_al135 = PATH_pre + al135_name\n",
    "\n",
    "    # csvファイル読み込み\n",
    "    # headerは設定せず，転置後にset_index()する（header = 0にすると列名が変えられる）\n",
    "    al45 = pd.read_csv(PATH_al45, header = None, index_col = 0).T\n",
    "    al45.columns = range(0, len(al45.columns))\n",
    "    al45 = al45.set_index(0)\n",
    "\n",
    "    al135 = pd.read_csv(PATH_al135, header = None, index_col = 0).T\n",
    "    al135.columns = range(0, len(al135.columns))\n",
    "    al135 = al135.set_index(0)\n",
    "\n",
    "    # ボクセルをランク順にしたファイル\n",
    "    PATH_rank = PATH_pre + rankFile\n",
    "    rank = pd.read_csv(PATH_rank, index_col = 0)\n"
   ]
  },
  {
   "cell_type": "code",
   "execution_count": 128,
   "metadata": {},
   "outputs": [
    {
     "name": "stdout",
     "output_type": "stream",
     "text": [
      "k = 4\n",
      "../SpmActive/20181119tm/RawData/../4vox_RawData/raw_al45.csv\n",
      "../SpmActive/20181119tm/RawData/../4vox_RawData/raw_al135.csv\n",
      "k = 6\n",
      "../SpmActive/20181119tm/RawData/../6vox_RawData/raw_al45.csv\n",
      "../SpmActive/20181119tm/RawData/../6vox_RawData/raw_al135.csv\n"
     ]
    }
   ],
   "source": [
    "for k in (k_list):\n",
    "    \n",
    "    print('k = ' + str(k))\n",
    "    \n",
    "    # 新しいRawDataのディレクトリ名・パス\n",
    "    DIR = PATH_pre + '../' + rankName + str(k) + 'vox_RawData'\n",
    "    PATH = DIR + '/'\n",
    "\n",
    "    # すでに存在する場合は何もせず，存在していない場合はディレクトリ作成\n",
    "    if not os.path.exists(DIR):\n",
    "        os.mkdir(DIR)\n",
    "        \n",
    "\n",
    "    # 上位k個のボクセル名をデータフレームのインデックスとして取得\n",
    "    # ボクセル名のみが欲しい，データフレームの要素は不要\n",
    "    rank_k = rank.iloc[0:k, :]\n",
    "    rank_k = pd.DataFrame(index = list(rank_k.index), columns = [])\n",
    "    \n",
    "    # extraction_vox関数\n",
    "    extraction_vox(al45, rank_k, al45_name, PATH)\n",
    "    extraction_vox(al135, rank_k, al135_name, PATH)"
   ]
  },
  {
   "cell_type": "code",
   "execution_count": 103,
   "metadata": {},
   "outputs": [
    {
     "name": "stdout",
     "output_type": "stream",
     "text": [
      "../SpmActive/20181119tm/RawData/../4vox_RawData/raw_al135.csv\n"
     ]
    }
   ],
   "source": []
  },
  {
   "cell_type": "code",
   "execution_count": null,
   "metadata": {
    "collapsed": true
   },
   "outputs": [],
   "source": []
  }
 ],
 "metadata": {
  "kernelspec": {
   "display_name": "Python 3",
   "language": "python",
   "name": "python3"
  },
  "language_info": {
   "codemirror_mode": {
    "name": "ipython",
    "version": 3
   },
   "file_extension": ".py",
   "mimetype": "text/x-python",
   "name": "python",
   "nbconvert_exporter": "python",
   "pygments_lexer": "ipython3",
   "version": "3.6.1"
  }
 },
 "nbformat": 4,
 "nbformat_minor": 2
}
