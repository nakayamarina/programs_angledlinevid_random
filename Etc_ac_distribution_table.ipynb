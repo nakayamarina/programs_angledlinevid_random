{
 "cells": [
  {
   "cell_type": "markdown",
   "metadata": {},
   "source": [
    "# 識別率分布表\n",
    "----  \n",
    "  \n",
    "引数：識別率-ボクセル-ブロードマンエリア対応表が記録されたcsvファイルがあるディレクトリまでのパス  \n",
    "  \n",
    "---  \n",
    "  \n",
    "入力：識別率-ボクセル-ブロードマンエリア対応表 ACCURACY_BA[交差検証法]_VOX(ベクトルの種類)_SVM.csv\n",
    "   \n",
    "---\n",
    "  \n",
    "出力：ACCURACY_DIST[交差検証法]_VOX(ベクトルの種類)_SVM.csv\n",
    "  \n",
    "---  \n",
    "  \n",
    "識別率の分布をまとめて書き出す  "
   ]
  },
  {
   "cell_type": "code",
   "execution_count": 1,
   "metadata": {
    "collapsed": true
   },
   "outputs": [],
   "source": [
    "from os.path import join as pathjoin\n",
    "from pprint import pprint\n",
    "# from nifti import NiftiImage\n",
    "import glob\n",
    "import numpy as np\n",
    "import pandas as pd\n",
    "import sys\n",
    "import pickle\n",
    "# import dill\n",
    "import csv\n",
    "\n",
    "# .pyで実行するときは%matplotlib inlineをコメントアウト！！！！\n",
    "import matplotlib.pyplot as plt\n",
    "%matplotlib inline"
   ]
  },
  {
   "cell_type": "code",
   "execution_count": 10,
   "metadata": {
    "collapsed": true
   },
   "outputs": [],
   "source": [
    "###### vecName,tsscan書き換え\n",
    "\n",
    "# args = sys.argv\n",
    "# PATH = args[1]\n",
    "\n",
    "#jupyter notebookのときはここで指定\n",
    "PATH = '../MaskBrodmann/'\n",
    "\n",
    "# ベクトルの種類\n",
    "vecName = 'univariate'\n",
    "\n",
    "# 時系列幅\n",
    "tsscan = '10'\n",
    "\n",
    "if vecName != 'timeseries':\n",
    "    \n",
    "    tsscan = ''\n",
    "\n",
    "Subject = ['20181227rn', '20181227tsk', '20181227tst']\n",
    "\n",
    "# 交差検証法の種類\n",
    "cv = '10cv'\n",
    "\n",
    "# 機械学習アルゴリズム\n",
    "ML = 'SVM'\n",
    "\n",
    "# 各被験者ごとのRawDataディレクトリまでのパス\n",
    "\n",
    "PATH_raw = []\n",
    "\n",
    "for subName in Subject:\n",
    "    \n",
    "    PATH_raw = PATH_raw + [PATH + subName + '/RawData/']"
   ]
  },
  {
   "cell_type": "code",
   "execution_count": 11,
   "metadata": {},
   "outputs": [
    {
     "name": "stdout",
     "output_type": "stream",
     "text": [
      "../MaskBrodmann/20181227rn/RawData/\n",
      "../MaskBrodmann/20181227rn/RawData/ACCURACY_DIST[10cv]_VOXunivariate_SVM.csv\n",
      "../MaskBrodmann/20181227rn/RawData/ACCURACY_DIST10[10cv]_VOXunivariate_SVM.csv\n",
      "../MaskBrodmann/20181227tsk/RawData/\n",
      "../MaskBrodmann/20181227tsk/RawData/ACCURACY_DIST[10cv]_VOXunivariate_SVM.csv\n",
      "../MaskBrodmann/20181227tsk/RawData/ACCURACY_DIST10[10cv]_VOXunivariate_SVM.csv\n",
      "../MaskBrodmann/20181227tst/RawData/\n",
      "../MaskBrodmann/20181227tst/RawData/ACCURACY_DIST[10cv]_VOXunivariate_SVM.csv\n",
      "../MaskBrodmann/20181227tst/RawData/ACCURACY_DIST10[10cv]_VOXunivariate_SVM.csv\n"
     ]
    }
   ],
   "source": [
    "for sub in PATH_raw:\n",
    "    \n",
    "    print(sub)\n",
    "    \n",
    "    ##### 各識別率ごとの分布 ###################\n",
    "    \n",
    "    \n",
    "    # 識別率-ボクセル-ブロードマンエリア対応表csvファイルへのパス\n",
    "    PATH_ac = sub + 'ACCURACY_BA' + '[' + cv + ']_VOX' + vecName + tsscan + '_' + ML + '.csv'\n",
    "\n",
    "    # 読み込み\n",
    "    table = pd.read_csv(PATH_ac, header = 0)\n",
    "\n",
    "    # 識別率部分を取得\n",
    "    ac = table['accuracy(%)']\n",
    "\n",
    "    # 各識別率の出現頻度を一覧\n",
    "    dist = pd.DataFrame(ac.value_counts())\n",
    "    \n",
    "    # 識別率の高い順にソート\n",
    "    dist = dist.sort_index(ascending = False)\n",
    "    \n",
    "    # 各識別率がインデックスになっているので解除，列名をつける\n",
    "    dist = dist.reset_index()\n",
    "    dist.columns = ['accuracy(%)', 'Number']\n",
    "\n",
    "\n",
    "    PATH_csv = sub + 'ACCURACY_DIST[' + cv + ']_VOX' + vecName + tsscan + '_' + ML + '.csv'\n",
    "    print(PATH_csv)\n",
    "    dist.to_csv(PATH_csv)\n",
    "    \n",
    "    \n",
    "    ##### ある区間で区切った時の分布 ####################\n",
    "    \n",
    "    # 個数格納用\n",
    "    acList = []\n",
    "    \n",
    "    # インデックス用\n",
    "    acList_index = []\n",
    "\n",
    "    # sepNum%区切り\n",
    "    sepNum = 10\n",
    "\n",
    "    for i in range(sepNum):\n",
    "\n",
    "        # 識別率の区間を指定\n",
    "        mask = ((dist['accuracy(%)'] >= (i * sepNum)) & (dist['accuracy(%)'] < ((i + 1) * sepNum)))\n",
    "        distSep = dist[mask]\n",
    "\n",
    "        # 区間内のボクセル数をカウント\n",
    "        acList = acList + [distSep['Number'].sum()]\n",
    "\n",
    "        # インデックス名作成\n",
    "        if i == 9:\n",
    "\n",
    "            indexName = [str(i*10) + ' ~ ' + str(((i + 1) * 10))]\n",
    "\n",
    "        else:\n",
    "\n",
    "            indexName = [str(i*10) + ' ~ ' + str(((i + 1) * 10) - 1)]\n",
    "\n",
    "        acList_index = acList_index + indexName\n",
    "\n",
    "    # データフレーム化，インデックス・カラム名追加\n",
    "    acList = pd.DataFrame(acList)\n",
    "    acList.index = acList_index\n",
    "    acList.columns = ['Distribution']\n",
    "    \n",
    "    # 識別率の高い順にソート\n",
    "    acList = acList.sort_index(ascending = False)\n",
    "\n",
    "    PATH_csv = sub + 'ACCURACY_DIST' + str(sepNum) + '[' + cv + ']_VOX' + vecName + tsscan + '_' + ML + '.csv'\n",
    "    print(PATH_csv)\n",
    "    acList.to_csv(PATH_csv)\n",
    "    "
   ]
  },
  {
   "cell_type": "code",
   "execution_count": null,
   "metadata": {
    "collapsed": true
   },
   "outputs": [],
   "source": []
  },
  {
   "cell_type": "code",
   "execution_count": null,
   "metadata": {
    "collapsed": true
   },
   "outputs": [],
   "source": []
  }
 ],
 "metadata": {
  "kernelspec": {
   "display_name": "Python 3",
   "language": "python",
   "name": "python3"
  },
  "language_info": {
   "codemirror_mode": {
    "name": "ipython",
    "version": 3
   },
   "file_extension": ".py",
   "mimetype": "text/x-python",
   "name": "python",
   "nbconvert_exporter": "python",
   "pygments_lexer": "ipython3",
   "version": "3.6.1"
  }
 },
 "nbformat": 4,
 "nbformat_minor": 2
}
