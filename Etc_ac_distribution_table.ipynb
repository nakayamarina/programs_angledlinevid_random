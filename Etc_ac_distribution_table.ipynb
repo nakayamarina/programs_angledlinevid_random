{
 "cells": [
  {
   "cell_type": "markdown",
   "metadata": {},
   "source": [
    "# 識別率分布表\n",
    "----  \n",
    "  \n",
    "引数：識別率-ボクセル-ブロードマンエリア対応表が記録されたcsvファイル(AcVoxelBrodmannTable時系列幅)[交差検証法名].csv)があるディレクトリまでのパス  \n",
    "  \n",
    "---  \n",
    "  \n",
    "入力：識別率-ボクセル-ブロードマンエリア対応表 AcVoxelBrodmannTable時系列幅)[交差検証法名].csv  \n",
    "   \n",
    "---\n",
    "  \n",
    "出力：AcVoxelBrodmannTable(時系列幅)[交差検証法名]_dist.csv \n",
    "  \n",
    "---  \n",
    "  \n",
    "識別率の分布をまとめて書き出す  "
   ]
  },
  {
   "cell_type": "code",
   "execution_count": 20,
   "metadata": {
    "collapsed": true
   },
   "outputs": [],
   "source": [
    "from os.path import join as pathjoin\n",
    "from pprint import pprint\n",
    "# from nifti import NiftiImage\n",
    "import glob\n",
    "import numpy as np\n",
    "import pandas as pd\n",
    "import sys\n",
    "import pickle\n",
    "# import dill\n",
    "import csv\n",
    "\n",
    "# .pyで実行するときは%matplotlib inlineをコメントアウト！！！！\n",
    "import matplotlib.pyplot as plt\n",
    "%matplotlib inline"
   ]
  },
  {
   "cell_type": "code",
   "execution_count": 61,
   "metadata": {
    "collapsed": true
   },
   "outputs": [],
   "source": [
    "# args = sys.argv\n",
    "# PATH = args[1]\n",
    "\n",
    "#jupyter notebookのときはここで指定\n",
    "PATH = '../MaskBrodmann/'\n",
    "\n",
    "Subject = ['20181119tm', '20181119tsk', '20181119tst']\n",
    "\n",
    "PATH_raw = []\n",
    "\n",
    "cv = '10cv'\n",
    "\n",
    "tsscan = '10'\n",
    "\n",
    "\n",
    "# 各被験者ごとのRawDataディレクトリまでのパス\n",
    "for subName in Subject:\n",
    "    \n",
    "    PATH_raw = PATH_raw + [PATH + subName + '/RawData/']\n",
    "    \n",
    "    "
   ]
  },
  {
   "cell_type": "code",
   "execution_count": 62,
   "metadata": {},
   "outputs": [
    {
     "name": "stdout",
     "output_type": "stream",
     "text": [
      "../MaskBrodmann/20181119tm/RawData/\n",
      "../MaskBrodmann/20181119tm/RawData/AcVoxelBrodmannTable10[10cv]_dist.csv\n",
      "../MaskBrodmann/20181119tsk/RawData/\n",
      "../MaskBrodmann/20181119tsk/RawData/AcVoxelBrodmannTable10[10cv]_dist.csv\n",
      "../MaskBrodmann/20181119tst/RawData/\n",
      "../MaskBrodmann/20181119tst/RawData/AcVoxelBrodmannTable10[10cv]_dist.csv\n"
     ]
    }
   ],
   "source": [
    "for sub in PATH_raw:\n",
    "    \n",
    "    print(sub)\n",
    "    \n",
    "\n",
    "    # 識別率-ボクセル-ブロードマンエリア対応表csvファイルへのパス\n",
    "    PATH_ac = sub + 'AcVoxelBrodmannTable' + str(tsscan) + '[' + str(cv) + '].csv'\n",
    "\n",
    "    # 読み込み\n",
    "    table = pd.read_csv(PATH_ac, header = 0)\n",
    "\n",
    "    # 識別率部分を取得\n",
    "    ac = table['accuracy(%)']\n",
    "\n",
    "    # 各識別率の出現頻度を一覧\n",
    "    dist = pd.DataFrame(ac.value_counts())\n",
    "    \n",
    "    # 識別率の高い順にソート\n",
    "    dist = dist.sort_index(ascending = False)\n",
    "    \n",
    "    # 各識別率がインデックスになっているので解除，列名をつける\n",
    "    dist = dist.reset_index()\n",
    "    dist.columns = ['accuracy(%)', 'Number']\n",
    "\n",
    "\n",
    "    PATH_csv = sub + 'AcVoxelBrodmannTable' + tsscan + '[' + cv + ']_dist.csv'\n",
    "    print(PATH_csv)\n",
    "    dist.to_csv(PATH_csv)\n"
   ]
  },
  {
   "cell_type": "code",
   "execution_count": 56,
   "metadata": {},
   "outputs": [
    {
     "data": {
      "text/plain": [
       "334"
      ]
     },
     "execution_count": 56,
     "metadata": {},
     "output_type": "execute_result"
    }
   ],
   "source": [
    "(dist['accuracy(%)'] > 50).sum()"
   ]
  },
  {
   "cell_type": "code",
   "execution_count": null,
   "metadata": {
    "collapsed": true
   },
   "outputs": [],
   "source": []
  }
 ],
 "metadata": {
  "kernelspec": {
   "display_name": "Python 3",
   "language": "python",
   "name": "python3"
  },
  "language_info": {
   "codemirror_mode": {
    "name": "ipython",
    "version": 3
   },
   "file_extension": ".py",
   "mimetype": "text/x-python",
   "name": "python",
   "nbconvert_exporter": "python",
   "pygments_lexer": "ipython3",
   "version": "3.6.1"
  }
 },
 "nbformat": 4,
 "nbformat_minor": 2
}
