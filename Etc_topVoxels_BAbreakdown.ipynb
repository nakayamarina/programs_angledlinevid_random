{
 "cells": [
  {
   "cell_type": "markdown",
   "metadata": {},
   "source": [
    "# 指定ファイルからブロードマンエリアを集約  \n",
    "---  \n",
    "  \n",
    "引数：ボクセル番号，ブロードマンエリアがランク順(識別率，相関etc.)に並んでいるcsvファイルがあるディレクトリまでのパス  \n",
    "  \n",
    "---  \n",
    "  \n",
    "入力：ボクセル番号，ブロードマンエリアがランク順(識別率，相関etc.)に並んでいるcsvファイル\n",
    "  \n",
    "---  \n",
    "  \n",
    "出力：指定ディレクトリ/読み込んだファイル名_breakdown(ボクセル数k).csv\n",
    "  \n",
    "---\n",
    "ボクセル番号，ブロードマンエリアがランク順(識別率，相関etc.)に並んでいるcsvファイルにおいて，上位kボクセル分のブロードマンエリアを集約する．"
   ]
  },
  {
   "cell_type": "code",
   "execution_count": 61,
   "metadata": {},
   "outputs": [
    {
     "name": "stdout",
     "output_type": "stream",
     "text": [
      "########## Etc_topVoxels_BAsummary.py program excution ############\n"
     ]
    }
   ],
   "source": [
    "print('########## Etc_topVoxels_BAsummary.py program excution ############')"
   ]
  },
  {
   "cell_type": "code",
   "execution_count": 62,
   "metadata": {
    "collapsed": true
   },
   "outputs": [],
   "source": [
    "import glob\n",
    "import sys\n",
    "import pandas as pd\n",
    "import matplotlib.pyplot as plt\n",
    "import os\n",
    "import numpy as np"
   ]
  },
  {
   "cell_type": "code",
   "execution_count": 75,
   "metadata": {
    "collapsed": true
   },
   "outputs": [],
   "source": [
    "# args = sys.argv\n",
    "# PATH_pre = args[1]\n",
    "\n",
    "# jupyter notebookのときはここで指定\n",
    "PATH_pre = '../MaskBrodmann/20181227tst/RawData/'"
   ]
  },
  {
   "cell_type": "code",
   "execution_count": 76,
   "metadata": {
    "collapsed": true
   },
   "outputs": [],
   "source": [
    "# COR or RAW(最後にどこにファイルを出力するか　COR or RAW)\n",
    "rankName = 'COR'\n",
    "\n",
    "# 読み込みたいcsvファイル名\n",
    "csv_list = ['correlation_BA.csv']\n",
    "\n",
    "# 何ボクセル取得するか\n",
    "k_list = [10, 15, 30, 45, 200]\n"
   ]
  },
  {
   "cell_type": "code",
   "execution_count": 77,
   "metadata": {
    "collapsed": true
   },
   "outputs": [],
   "source": [
    "# # COR or RAW(最後にどこにファイルを出力するか　COR or RAW)\n",
    "# rankName = 'RAW'\n",
    "\n",
    "# # 読み込みたいcsvファイル名\n",
    "# csv_list = ['ACCURACY_BA[10cv]_VOXtimeseries10_SVM.csv', 'ACCURACY_BA[10cv]_VOXtimeseries15_SVM.csv',\n",
    "#             'ACCURACY_BA[10cv]_VOXtimeseries30_SVM.csv', 'ACCURACY_BA[10cv]_VOXtimeseries45_SVM.csv',\n",
    "#             'ACCURACY_BA[10cv]_VOXunivariate_SVM.csv']\n",
    "\n",
    "# # 何ボクセル取得するか\n",
    "# k_list = [10, 15, 30, 45, 200]\n"
   ]
  },
  {
   "cell_type": "code",
   "execution_count": 78,
   "metadata": {},
   "outputs": [
    {
     "name": "stdout",
     "output_type": "stream",
     "text": [
      "-------- correlation_BA ------------\n",
      "k = 10\n",
      "../MaskBrodmann/20181227tst/RawData/../COR10vox_RawData/correlation_BA_breakdown10.csv\n",
      "k = 15\n",
      "../MaskBrodmann/20181227tst/RawData/../COR15vox_RawData/correlation_BA_breakdown15.csv\n",
      "k = 30\n",
      "../MaskBrodmann/20181227tst/RawData/../COR30vox_RawData/correlation_BA_breakdown30.csv\n",
      "k = 45\n",
      "../MaskBrodmann/20181227tst/RawData/../COR45vox_RawData/correlation_BA_breakdown45.csv\n",
      "k = 200\n",
      "../MaskBrodmann/20181227tst/RawData/../COR200vox_RawData/correlation_BA_breakdown200.csv\n"
     ]
    }
   ],
   "source": [
    "if __name__ == '__main__':\n",
    "    \n",
    "    for csvfile in csv_list:\n",
    "\n",
    "        # ボクセルをランク順にしたファイル\n",
    "        PATH_rank = PATH_pre + csvfile\n",
    "        rank = pd.read_csv(PATH_rank, index_col = 0)\n",
    "        \n",
    "        # 読み込んだファイル名\n",
    "        filename = csvfile.split('.csv')[0]\n",
    "        \n",
    "        print('-------- ' + filename + ' ------------')\n",
    "\n",
    "        for k in (k_list):\n",
    "\n",
    "            print('k = ' + str(k))\n",
    "\n",
    "\n",
    "            # csvを書き出す先がRawDataかそれ以外か\n",
    "            if rankName == 'RAW':\n",
    "\n",
    "                PATH = PATH_pre\n",
    "\n",
    "            else:\n",
    "\n",
    "                # 新しいRawDataのディレクトリ名・パス\n",
    "                DIR = PATH_pre + '../' + rankName + str(k) + 'vox_RawData'\n",
    "                PATH = DIR + '/'\n",
    "\n",
    "                # すでに存在する場合は何もせず，存在していない場合はディレクトリ作成\n",
    "                if not os.path.exists(DIR):\n",
    "                    os.mkdir(DIR)\n",
    "\n",
    "\n",
    "            # 上位kボクセル取得\n",
    "            rank_k = rank.iloc[0:k, :]\n",
    "\n",
    "            # 各ブロードマンエリア何個あるか一覧化\n",
    "            babd = pd.DataFrame(rank_k['BrodmannArea'].value_counts())\n",
    "\n",
    "            # 列名を変える(breakdown = 内訳)\n",
    "            babd.columns = ['breakdown']\n",
    "\n",
    "            # csv書き出し\n",
    "            PATH_out = PATH + filename + '_breakdown' + str(k) + '.csv'\n",
    "            babd.to_csv(PATH_out)\n",
    "            \n",
    "            print(PATH_out)"
   ]
  },
  {
   "cell_type": "code",
   "execution_count": null,
   "metadata": {
    "collapsed": true
   },
   "outputs": [],
   "source": []
  }
 ],
 "metadata": {
  "kernelspec": {
   "display_name": "Python 3",
   "language": "python",
   "name": "python3"
  },
  "language_info": {
   "codemirror_mode": {
    "name": "ipython",
    "version": 3
   },
   "file_extension": ".py",
   "mimetype": "text/x-python",
   "name": "python",
   "nbconvert_exporter": "python",
   "pygments_lexer": "ipython3",
   "version": "3.6.1"
  }
 },
 "nbformat": 4,
 "nbformat_minor": 2
}
