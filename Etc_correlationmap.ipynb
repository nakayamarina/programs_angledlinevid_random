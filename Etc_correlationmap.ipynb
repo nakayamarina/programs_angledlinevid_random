{
 "cells": [
  {
   "cell_type": "markdown",
   "metadata": {},
   "source": [
    "# 相関マップ\n",
    "---\n",
    "引数：raw_al45.csv/raw_al135.csvがあるディレクトリまでのパス\n",
    "\n",
    "----\n",
    "\n",
    "入力：raw_al45.csv/raw_al135.csv\n",
    "\n",
    "----\n",
    "\n",
    "出力：correlationmap.csv ボクセルごとに相関を算出したもの一覧  \n",
    "  \n",
    "---\n",
    "ボクセルごとに相関を算出する．  \n",
    "タスク1のZ-scoreには1を，タスク2のZ-scoreには-1をかけ，和を求める．値のものほど相関が大きいということになるため，昇順に並べ替えておく．"
   ]
  },
  {
   "cell_type": "code",
   "execution_count": 1,
   "metadata": {},
   "outputs": [
    {
     "name": "stdout",
     "output_type": "stream",
     "text": [
      "############ Etc_correlationmap.py program excution ############\n"
     ]
    }
   ],
   "source": [
    "print('############ Etc_correlationmap.py program excution ############')"
   ]
  },
  {
   "cell_type": "code",
   "execution_count": 3,
   "metadata": {
    "collapsed": true
   },
   "outputs": [],
   "source": [
    "import numpy as np\n",
    "import pandas as pd\n",
    "import sys"
   ]
  },
  {
   "cell_type": "code",
   "execution_count": 4,
   "metadata": {
    "collapsed": true
   },
   "outputs": [],
   "source": [
    "#args = sys.argv\n",
    "#PATH = args[1]\n",
    "\n",
    "# jupyter notebookのときはここで指定\n",
    "PATH = '../SpmActive/20181119tm/RawData/'"
   ]
  },
  {
   "cell_type": "code",
   "execution_count": 5,
   "metadata": {
    "collapsed": true
   },
   "outputs": [],
   "source": [
    "# 読み込みたいファイルのパス\n",
    "PATH_al45 = PATH + 'raw_al45.csv'\n",
    "PATH_al135 = PATH + 'raw_al135.csv'\n",
    "\n",
    "# csvファイル読み込み\n",
    "# headerは設定せず，転置後にset_index()する（header = 0にすると列名が変えられる）\n",
    "al45 = pd.read_csv(PATH_al45, header = None, index_col = 0).T\n",
    "al45.columns = range(0, len(al45.columns))\n",
    "al45 = al45.set_index(0)\n",
    "\n",
    "al135 = pd.read_csv(PATH_al135, header = None, index_col = 0).T\n",
    "al135.columns = range(0, len(al135.columns))\n",
    "al135 = al135.set_index(0)"
   ]
  },
  {
   "cell_type": "code",
   "execution_count": 129,
   "metadata": {},
   "outputs": [
    {
     "name": "stdout",
     "output_type": "stream",
     "text": [
      "Voxel1( 1 / 7 ) : 11.3777838\n",
      "Voxel2( 2 / 7 ) : 2.5801509\n",
      "Voxel3( 3 / 7 ) : 9.7215478\n",
      "Voxel4( 4 / 7 ) : -3.28758749\n",
      "Voxel5( 5 / 7 ) : 0.76792116\n",
      "Voxel6( 6 / 7 ) : -1.52787437\n",
      "Voxel7( 7 / 7 ) : 3.1223972\n"
     ]
    }
   ],
   "source": [
    "# ボクセル数\n",
    "voxNum = len(al45) // 4\n",
    "\n",
    "# 何ボクセル目かをカウント\n",
    "counter = 0\n",
    "\n",
    "# ボクセル名取得用\n",
    "voxNames = []\n",
    "\n",
    "# ボクセルごとの相関格納用\n",
    "cormap = []\n",
    "\n",
    "for voxNo in range(voxNum):\n",
    "\n",
    "    voxName = 'Voxel' + str(voxNo + 1)\n",
    "\n",
    "    # ボクセルのデータを取得\n",
    "    al45Vox = al45.loc[voxName]\n",
    "    al135Vox = al135.loc[voxName]\n",
    "    \n",
    "    # ボクセルごとに各タスクの総和を求める\n",
    "    \n",
    "    # 45度線は1をかけたものの総和\n",
    "    # 135度線は-1をかけたものの総和\n",
    "    # データフレームの値はObject型なのでfloat型に変換しないと掛け算や総和を求められない\n",
    "    al45sum = sum(al45Vox.astype(float).sum())\n",
    "    al135sum = sum((al135Vox.astype(float) * (-1)).sum())\n",
    "    \n",
    "    # 各タスクの総和を足すことで相関を求める\n",
    "    alsum = al45sum + al135sum\n",
    "    \n",
    "    # 求めた相関を格納\n",
    "    cormap = cormap + [alsum]\n",
    "    \n",
    "    print(voxName + '( ' + str(counter+1) + ' / ' + str(voxNum) + ' ) : ' + str(alsum))\n",
    "    \n",
    "    counter = counter + 1\n",
    "    voxNames = voxNames + [voxName]"
   ]
  },
  {
   "cell_type": "code",
   "execution_count": 141,
   "metadata": {},
   "outputs": [],
   "source": [
    "# 相関一覧をデータフレーム化\n",
    "cormap = pd.DataFrame(cormap)\n",
    "\n",
    "# カラム名，インデックス名をつける\n",
    "cormap.index = voxNames\n",
    "cormap.columns = ['Correlation']"
   ]
  },
  {
   "cell_type": "code",
   "execution_count": 145,
   "metadata": {},
   "outputs": [],
   "source": [
    "# 相関の大き順に並べ替え\n",
    "cormap_sort = cormap.sort_values('Correlation', ascending = False)"
   ]
  },
  {
   "cell_type": "code",
   "execution_count": 146,
   "metadata": {
    "collapsed": true
   },
   "outputs": [],
   "source": [
    "# csv書き出し\n",
    "PATH_cormap = PATH + 'correlationmap.csv'\n",
    "cormap_sort.to_csv(PATH_cormap)"
   ]
  },
  {
   "cell_type": "code",
   "execution_count": null,
   "metadata": {
    "collapsed": true
   },
   "outputs": [],
   "source": []
  }
 ],
 "metadata": {
  "kernelspec": {
   "display_name": "Python 3",
   "language": "python",
   "name": "python3"
  },
  "language_info": {
   "codemirror_mode": {
    "name": "ipython",
    "version": 3
   },
   "file_extension": ".py",
   "mimetype": "text/x-python",
   "name": "python",
   "nbconvert_exporter": "python",
   "pygments_lexer": "ipython3",
   "version": "3.6.1"
  }
 },
 "nbformat": 4,
 "nbformat_minor": 2
}
