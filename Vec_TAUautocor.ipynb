{
 "cells": [
  {
   "cell_type": "markdown",
   "metadata": {},
   "source": [
    "# 各ボクセルごとの時間遅れτを求める\n",
    "### 自己相関関数が最初に極小値をとる時刻\n",
    "---  \n",
    "  \n",
    "引数：raw_al45.csv/raw_al135.csvがあるディレクトリまでのパス  \n",
    "  \n",
    "---  \n",
    "  \n",
    "入力：raw_al45.csv/raw_al135.csv\n",
    "  \n",
    "---\n",
    "   \n",
    "出力：45度/135度の斜め線動画提示時の各ボクセルの時間遅れτをまとめたもの  \n",
    "  \n",
    "---  \n",
    "  \n",
    "時系列特性を得るために3次元空間に写像する．  \n",
    "時系列データにおいて，ある時刻tの値をx軸，t+τ（時間遅れ）の値をy軸，t+2*τの値をz軸に写像すると，  \n",
    "特徴的な軌道を描くとされている（カオス理論）．  \n",
    "時間遅れτの求め方はいくつかあるが，このプログラムでは時系列データ（各ボクセルのデータ）の自己相関関数が最初に極小値をとる時刻をτとする．  "
   ]
  },
  {
   "cell_type": "code",
   "execution_count": 1,
   "metadata": {},
   "outputs": [
    {
     "name": "stdout",
     "output_type": "stream",
     "text": [
      "########## TAUautocor.py program excution ############\n"
     ]
    }
   ],
   "source": [
    "print('########## TAUautocor.py program excution ############')"
   ]
  },
  {
   "cell_type": "code",
   "execution_count": 2,
   "metadata": {
    "collapsed": true
   },
   "outputs": [],
   "source": [
    "import numpy as np\n",
    "from scipy import signal\n",
    "import sys\n",
    "import pandas as pd"
   ]
  },
  {
   "cell_type": "markdown",
   "metadata": {},
   "source": [
    "コマンドライン引数でraw_al135.csv/raw_al45.csvがあるディレクトリまでのパスを取得"
   ]
  },
  {
   "cell_type": "code",
   "execution_count": 6,
   "metadata": {
    "collapsed": true
   },
   "outputs": [],
   "source": [
    "#args = sys.argv\n",
    "#PATH = args[1]\n",
    "\n",
    "# jupyter notebookのときはここで指定\n",
    "PATH = '../Active/20181119mt/RawData/'\n",
    "\n",
    "# 読み込みたいファイルのパス\n",
    "PATH_al45 = 'raw_al45.csv'\n",
    "PATH_al135 = 'raw_al135.csv'"
   ]
  },
  {
   "cell_type": "markdown",
   "metadata": {},
   "source": [
    "## autocor関数\n",
    "引数としてmain関数で読み込んだデータをdataで受け取る．  \n",
    "rock，scissor，paperの各ボクセルごとの自己相関関数が最初に極小値をとる時刻を調べる --> csvファイルで書き出し"
   ]
  },
  {
   "cell_type": "code",
   "execution_count": 4,
   "metadata": {
    "collapsed": true
   },
   "outputs": [],
   "source": [
    "def autocor(data):\n",
    "    \n",
    "    # 求めた値を入れる\n",
    "    TAUs = []\n",
    "    \n",
    "    # ボクセル（列）の数だけ繰り返す\n",
    "    for i in range(len(data.columns)):\n",
    "        \n",
    "        # i番目のボクセルデータ抽出\n",
    "        voxel = data.iloc[:, i]\n",
    "        \n",
    "        # 自己相関関数\n",
    "        x = np.correlate(voxel, voxel, mode = 'full')\n",
    "        \n",
    "        # 極小値のインデックス一覧\n",
    "        first_min = signal.argrelmin(x)\n",
    "        \n",
    "        # 「最初に極小値をとるときの値」なので最初の値をTAUsに追加\n",
    "        TAUs.append(first_min[0][0])\n",
    "        \n",
    "    print(TAUs)\n",
    "    \n",
    "    return TAUs"
   ]
  },
  {
   "cell_type": "markdown",
   "metadata": {},
   "source": [
    "## main関数\n",
    "\n",
    "* tap_raw.csv/rest_raw.csv読み込み\n",
    "* autcor関数呼び出し"
   ]
  },
  {
   "cell_type": "code",
   "execution_count": 12,
   "metadata": {},
   "outputs": [],
   "source": [
    "if __name__ == '__main__':\n",
    "    \n",
    "    # csvファイル読み込み\n",
    "    al45 = pd.read_csv(PATH + PATH_al45, header = 0, index_col = 0)\n",
    "    al135 = pd.read_csv(PATH + PATH_al135, header = 0, index_col = 0)\n",
    "    "
   ]
  },
  {
   "cell_type": "code",
   "execution_count": 13,
   "metadata": {},
   "outputs": [
    {
     "name": "stdout",
     "output_type": "stream",
     "text": [
      "[1, 13, 3, 1, 1, 2, 1, 6, 6, 3, 1, 3, 1, 2, 2, 1, 4, 3, 2, 2, 1, 2, 1, 2, 11, 2, 4, 4]\n"
     ]
    }
   ],
   "source": [
    "    tau_al45 = autocor(al45)"
   ]
  },
  {
   "cell_type": "code",
   "execution_count": 14,
   "metadata": {},
   "outputs": [
    {
     "name": "stdout",
     "output_type": "stream",
     "text": [
      "[2, 3, 7, 2, 3, 3, 8, 5, 11, 1, 3, 4, 2, 1, 1, 1, 2, 4, 2, 1, 1, 3, 1, 3, 1, 1, 5, 2]\n"
     ]
    }
   ],
   "source": [
    "    tau_al135 = autocor(al135)"
   ]
  },
  {
   "cell_type": "code",
   "execution_count": 15,
   "metadata": {
    "collapsed": true
   },
   "outputs": [],
   "source": [
    "    # RestとTappingの各ボクセルごとの時間遅れTAUを整形\n",
    "    TAUs = pd.DataFrame({'1':tau_al45, '2':tau_al135})\n",
    "    TAUs.columns = ['al45', 'al135']"
   ]
  },
  {
   "cell_type": "code",
   "execution_count": 16,
   "metadata": {
    "collapsed": true
   },
   "outputs": [],
   "source": [
    "    # csv書き出し\n",
    "    PATH_TAU = PATH + 'TAUautocor.csv'\n",
    "    TAUs.to_csv(PATH_TAU, index = False)"
   ]
  },
  {
   "cell_type": "code",
   "execution_count": null,
   "metadata": {
    "collapsed": true
   },
   "outputs": [],
   "source": []
  }
 ],
 "metadata": {
  "kernelspec": {
   "display_name": "Python 3",
   "language": "python",
   "name": "python3"
  },
  "language_info": {
   "codemirror_mode": {
    "name": "ipython",
    "version": 3
   },
   "file_extension": ".py",
   "mimetype": "text/x-python",
   "name": "python",
   "nbconvert_exporter": "python",
   "pygments_lexer": "ipython3",
   "version": "3.6.1"
  }
 },
 "nbformat": 4,
 "nbformat_minor": 2
}
